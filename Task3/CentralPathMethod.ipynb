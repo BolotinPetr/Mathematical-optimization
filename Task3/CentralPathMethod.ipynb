{
 "cells": [
  {
   "cell_type": "markdown",
   "metadata": {},
   "source": [
    "Сходимость следует из теоремы о комплиментарности."
   ]
  },
  {
   "cell_type": "markdown",
   "metadata": {},
   "source": [
    "Допустимая точка $x^*, x_s^*, y^*, y_s^*$ является решением тогда и только тогда, когда $XY_s1 = 0$ и $YX_s1 = 0$.\n",
    "Очевидно, что при стремлении $\\mu$ к 0, точки будут сходиться к настоящему решению."
   ]
  },
  {
   "cell_type": "code",
   "execution_count": 5,
   "metadata": {
    "collapsed": true
   },
   "outputs": [],
   "source": [
    "import numpy as np\n",
    "from matplotlib import pyplot as plt\n",
    "import CentralPath\n",
    "%matplotlib inline"
   ]
  },
  {
   "cell_type": "code",
   "execution_count": 9,
   "metadata": {
    "collapsed": false
   },
   "outputs": [
    {
     "name": "stdout",
     "output_type": "stream",
     "text": [
      "initiated\n"
     ]
    }
   ],
   "source": [
    "A = np.array(([[-5, -3],[1, -1],[-3, 5]]))\n",
    "b = np.array([-30, 3, 15])\n",
    "c = np.array([1, -2])\n",
    "param = np.array([100, 0.01, 0.01, 0.01, 0.01])\n",
    "lin_prog = CentralPath.CentralPathMethod(param)\n",
    "lin_prog.fit(c, A, b)"
   ]
  },
  {
   "cell_type": "code",
   "execution_count": 10,
   "metadata": {
    "collapsed": false
   },
   "outputs": [
    {
     "data": {
      "image/png": "[encoded data removed]",
      "text/plain": [
       "<matplotlib.figure.Figure at 0x74ce5f8>"
      ]
     },
     "metadata": {},
     "output_type": "display_data"
    },
    {
     "name": "stdout",
     "output_type": "stream",
     "text": [
      "x1 =  9.25478945222 x2 =  7.41228847371  u =  100.0\n",
      "x1 =  6.10489503843 x2 =  3.66076208901  u =  10.0\n",
      "x1 =  4.95836976751 x2 =  2.02004964389  u =  1.0\n",
      "x1 =  4.88284294962 x2 =  1.88899830495  u =  0.1\n",
      "x1 =  4.8757777384 x2 =  1.8763931394  u =  0.01\n",
      "x1 =  4.87751130421 x2 =  1.87757229142  u =  0.001\n",
      "x1 =  4.87520137381 x2 =  1.87520749716  u =  0.0001\n",
      "x1 =  4.87505133983 x2 =  1.87505194773  u =  1e-05\n"
     ]
    }
   ],
   "source": [
    "res = lin_prog.method()\n",
    "x = np.array([4.875, 15, 105/34, 4.875])\n",
    "y = np.array([1.875, 12, 165/34, 1.875])\n",
    "plt.plot(x, y)\n",
    "m = b.size\n",
    "u = 100.\n",
    "for i in res:\n",
    "    plt.scatter(i[0], i[1],  color = 'r')\n",
    "plt.show()\n",
    "for i in res:\n",
    "    print \"x1 = \", i[0], \"x2 = \", i[1], \" u = \", u\n",
    "    u /= 10"
   ]
  },
  {
   "cell_type": "markdown",
   "metadata": {},
   "source": [
    "Видим, что последовательность сходиться к решению задачи."
   ]
  },
  {
   "cell_type": "markdown",
   "metadata": {},
   "source": [
    "Если задача неограничена, то двойственная несовместна, следовательно не будет существовать решение уравнения $F(x, x_s, y, y_s, \\mu) = 0$"
   ]
  },
  {
   "cell_type": "code",
   "execution_count": null,
   "metadata": {
    "collapsed": true
   },
   "outputs": [],
   "source": []
  }
 ],
 "metadata": {
  "kernelspec": {
   "display_name": "Python 2",
   "language": "python",
   "name": "python2"
  },
  "language_info": {
   "codemirror_mode": {
    "name": "ipython",
    "version": 2
   },
   "file_extension": ".py",
   "mimetype": "text/x-python",
   "name": "python",
   "nbconvert_exporter": "python",
   "pygments_lexer": "ipython2",
   "version": "2.7.12"
  }
 },
 "nbformat": 4,
 "nbformat_minor": 0
}
